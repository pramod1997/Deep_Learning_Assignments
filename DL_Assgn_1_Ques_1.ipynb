{
  "nbformat": 4,
  "nbformat_minor": 0,
  "metadata": {
    "colab": {
      "name": "DL_Assgn_1_Ques_1.ipynb",
      "version": "0.3.2",
      "provenance": [],
      "collapsed_sections": [],
      "include_colab_link": true
    },
    "kernelspec": {
      "name": "python3",
      "display_name": "Python 3"
    }
  },
  "cells": [
    {
      "cell_type": "markdown",
      "metadata": {
        "id": "view-in-github",
        "colab_type": "text"
      },
      "source": [
        "<a href=\"https://colab.research.google.com/github/pramod1997/Deep_Learning_Assignments/blob/master/DL_Assgn_1_Ques_1.ipynb\" target=\"_parent\"><img src=\"https://colab.research.google.com/assets/colab-badge.svg\" alt=\"Open In Colab\"/></a>"
      ]
    },
    {
      "metadata": {
        "id": "rOiYminR38c7",
        "colab_type": "code",
        "colab": {}
      },
      "cell_type": "code",
      "source": [
        "### design XOR problem using ANN\n",
        "### define the backprop itself \n",
        "\n",
        "## 0 0 0\n",
        "## 1 1 0\n",
        "## 1 0 1\n",
        "## 0 1 1\n",
        "\n",
        "## using tanh function \n"
      ],
      "execution_count": 0,
      "outputs": []
    },
    {
      "metadata": {
        "id": "9LeE7wqiL1Qk",
        "colab_type": "code",
        "colab": {}
      },
      "cell_type": "code",
      "source": [
        "import numpy as np \n",
        "import matplotlib.pyplot as plt\n",
        "import sys"
      ],
      "execution_count": 0,
      "outputs": []
    },
    {
      "metadata": {
        "id": "XpQ09aZYMaGK",
        "colab_type": "code",
        "colab": {}
      },
      "cell_type": "code",
      "source": [
        "### training data\n",
        "X = np.array([\n",
        "    [-1,-1],\n",
        "    [1,1],\n",
        "    [-1,1],\n",
        "    [1,-1]\n",
        "])\n",
        "y = np.array([\n",
        "    [-1],\n",
        "    [-1],\n",
        "    [1],\n",
        "    [1]\n",
        "])"
      ],
      "execution_count": 0,
      "outputs": []
    },
    {
      "metadata": {
        "id": "sd2Ye6qJMk5V",
        "colab_type": "code",
        "colab": {}
      },
      "cell_type": "code",
      "source": [
        "### designing very simple MLP \n",
        "## no of input nuerons --> 2\n",
        "##hiddnen layer -->1\n",
        "## hidden layer unit -->2 \n",
        "### no of output layers  ----> 1 "
      ],
      "execution_count": 0,
      "outputs": []
    },
    {
      "metadata": {
        "id": "mTA-8xsqNMV_",
        "colab_type": "code",
        "colab": {}
      },
      "cell_type": "code",
      "source": [
        "num_i_units = 2 # Number of Input units\n",
        "num_h_units = 2 # Number of Hidden units\n",
        "num_o_units = 1 # Number of Output units"
      ],
      "execution_count": 0,
      "outputs": []
    },
    {
      "metadata": {
        "id": "bZ6vdJZpNfp-",
        "colab_type": "code",
        "colab": {}
      },
      "cell_type": "code",
      "source": [
        "# The learning rate for Gradient Descent.\n",
        "learning_rate = 0.01\n",
        "\n",
        "# The parameter to help with overfitting.\n",
        "reg_param = 0\n",
        "\n",
        "# Maximum iterations for Gradient Descent.\n",
        "max_iter = 6000\n",
        "\n",
        "# Number of training examples\n",
        "m = 4"
      ],
      "execution_count": 0,
      "outputs": []
    },
    {
      "metadata": {
        "id": "pSgtIleINw6E",
        "colab_type": "code",
        "colab": {}
      },
      "cell_type": "code",
      "source": [
        "### Nueral net some info --> weights will be generated using random distribution using numpy --> gives horrible result sometimes"
      ],
      "execution_count": 0,
      "outputs": []
    },
    {
      "metadata": {
        "id": "tfgIjLXNOCcJ",
        "colab_type": "code",
        "colab": {}
      },
      "cell_type": "code",
      "source": [
        "np.random.seed(1)\n",
        "W1 = np.random.normal(-1, 1, (num_h_units, num_i_units)) # 2x2\n",
        "W2 = np.random.normal(-1, 1, (num_o_units, num_h_units)) # 1x2\n",
        "\n",
        "B1 = np.random.random((num_h_units, 1)) # 2x1\n",
        "B2 = np.random.random((num_o_units, 1)) # 1x1"
      ],
      "execution_count": 0,
      "outputs": []
    },
    {
      "metadata": {
        "id": "q0dK00qBSZC8",
        "colab_type": "code",
        "outputId": "d108e011-11ca-49e5-b66a-2d44bede7ad6",
        "colab": {
          "base_uri": "https://localhost:8080/",
          "height": 51
        }
      },
      "cell_type": "code",
      "source": [
        "W1"
      ],
      "execution_count": 8,
      "outputs": [
        {
          "output_type": "execute_result",
          "data": {
            "text/plain": [
              "array([[ 0.62434536, -1.61175641],\n",
              "       [-1.52817175, -2.07296862]])"
            ]
          },
          "metadata": {
            "tags": []
          },
          "execution_count": 8
        }
      ]
    },
    {
      "metadata": {
        "id": "wNftktweSnmc",
        "colab_type": "code",
        "outputId": "dd77a7d4-1b63-429d-9cf5-b1507a0cdcaa",
        "colab": {
          "base_uri": "https://localhost:8080/",
          "height": 34
        }
      },
      "cell_type": "code",
      "source": [
        "W2"
      ],
      "execution_count": 9,
      "outputs": [
        {
          "output_type": "execute_result",
          "data": {
            "text/plain": [
              "array([[-0.13459237, -3.3015387 ]])"
            ]
          },
          "metadata": {
            "tags": []
          },
          "execution_count": 9
        }
      ]
    },
    {
      "metadata": {
        "id": "bf0xLt6dSu7h",
        "colab_type": "code",
        "outputId": "2d6cf338-b69c-44d5-baf1-920399c24019",
        "colab": {
          "base_uri": "https://localhost:8080/",
          "height": 51
        }
      },
      "cell_type": "code",
      "source": [
        "B1"
      ],
      "execution_count": 10,
      "outputs": [
        {
          "output_type": "execute_result",
          "data": {
            "text/plain": [
              "array([[0.41919451],\n",
              "       [0.6852195 ]])"
            ]
          },
          "metadata": {
            "tags": []
          },
          "execution_count": 10
        }
      ]
    },
    {
      "metadata": {
        "id": "K4_T98yUSvkK",
        "colab_type": "code",
        "outputId": "79ffeb90-142a-4e21-d85b-ed15116cd3b1",
        "colab": {
          "base_uri": "https://localhost:8080/",
          "height": 34
        }
      },
      "cell_type": "code",
      "source": [
        "B2"
      ],
      "execution_count": 11,
      "outputs": [
        {
          "output_type": "execute_result",
          "data": {
            "text/plain": [
              "array([[0.20445225]])"
            ]
          },
          "metadata": {
            "tags": []
          },
          "execution_count": 11
        }
      ]
    },
    {
      "metadata": {
        "id": "e0fSA60rSyJt",
        "colab_type": "code",
        "colab": {}
      },
      "cell_type": "code",
      "source": [
        "def tanh(z, derv=False):\n",
        "    if derv: return 1 - np.tanh(z)*np.tanh(z)\n",
        "    #return 1 / (1 + np.exp(-z))\n",
        "    return np.tanh(z)\n",
        "                "
      ],
      "execution_count": 0,
      "outputs": []
    },
    {
      "metadata": {
        "id": "5CxF6a3LS92t",
        "colab_type": "code",
        "colab": {}
      },
      "cell_type": "code",
      "source": [
        "def forward(x, predict=False):\n",
        "    a1 = x.reshape(x.shape[0], 1) # Getting the training example as a column vector.\n",
        "\n",
        "    z2 = W1.dot(a1) + B1 # 2x2 * 2x1 + 2x1 = 2x1\n",
        "    a2 = tanh(z2) # 2x1\n",
        "\n",
        "    z3 = W2.dot(a2) + B2 # 1x2 * 2x1 + 1x1 = 1x1\n",
        "    a3 = tanh(z3)\n",
        "\n",
        "    if predict: return a3\n",
        "    return (a1, a2, a3)"
      ],
      "execution_count": 0,
      "outputs": []
    },
    {
      "metadata": {
        "id": "UaygotsUTAph",
        "colab_type": "code",
        "colab": {}
      },
      "cell_type": "code",
      "source": [
        "dW1 = 0 # Gradient for W1\n",
        "dW2 = 0 # Gradient for W2\n",
        "\n",
        "dB1 = 0 # Gradient for B1\n",
        "dB2 = 0 # Gradient for B2\n",
        "\n",
        "cost = np.zeros((max_iter, 1)) # Column vector to record the cost of the NN after each Gradient Descent iteration."
      ],
      "execution_count": 0,
      "outputs": []
    },
    {
      "metadata": {
        "id": "R2psdnvJTD27",
        "colab_type": "code",
        "colab": {}
      },
      "cell_type": "code",
      "source": [
        "def train(_W1, _W2, _B1, _B2): # The arguments are to bypass UnboundLocalError error\n",
        "    for i in range(max_iter):\n",
        "        c = 0\n",
        "        \n",
        "        dW1 = 0\n",
        "        dW2 = 0\n",
        "\n",
        "        dB1 = 0\n",
        "        dB2 = 0\n",
        "        \n",
        "        for j in range(m):\n",
        "            sys.stdout.write(\"\\rIteration: {} and {}\".format(i + 1, j + 1))\n",
        "\n",
        "            # Forward Prop.\n",
        "            a0 = X[j].reshape(X[j].shape[0], 1) # 2x1\n",
        "\n",
        "            z1 = _W1.dot(a0) + _B1 # 2x2 * 2x1 + 2x1 = 2x1\n",
        "            a1 = tanh(z1) # 2x1\n",
        "\n",
        "            z2 = _W2.dot(a1) + _B2 # 1x2 * 2x1 + 1x1 = 1x1\n",
        "            a2 = tanh(z2) # 1x1\n",
        "\n",
        "            # Back prop.\n",
        "            dz2 = a2 - y[j] # 1x1\n",
        "            dW2 += dz2 * a1.T # 1x1 .* 1x2 = 1x2\n",
        "\n",
        "            dz1 = np.multiply((_W2.T * dz2), tanh(a1, derv=True)) # (2x1 * 1x1) .* 2x1 = 2x1\n",
        "            dW1 += dz1.dot(a0.T) # 2x1 * 1x2 = 2x2\n",
        "\n",
        "            dB1 += dz1 # 2x1\n",
        "            dB2 += dz2 # 1x1\n",
        "\n",
        "            c = c + (-(y[j] * np.log(a2)) - ((1 - y[j]) * np.log(1 - a2)))\n",
        "            sys.stdout.flush() # Updating the text.\n",
        "        \n",
        "        _W1 = _W1 - learning_rate * (dW1 / m) + ( (reg_param / m) * _W1)\n",
        "        _W2 = _W2 - learning_rate * (dW2 / m) + ( (reg_param / m) * _W2)\n",
        "\n",
        "        _B1 = _B1 - learning_rate * (dB1 / m)\n",
        "        _B2 = _B2 - learning_rate * (dB2 / m)\n",
        "        cost[i] = (c / m) + ( \n",
        "            (reg_param / (2 * m)) * \n",
        "            (\n",
        "                np.sum(np.power(_W1, 2)) + \n",
        "                np.sum(np.power(_W2, 2))\n",
        "            )\n",
        "        )\n",
        "    return (_W1, _W2, _B1, _B2)\n"
      ],
      "execution_count": 0,
      "outputs": []
    },
    {
      "metadata": {
        "id": "MKlsHg0hTH3S",
        "colab_type": "code",
        "outputId": "5a9cbfb3-a404-4c79-c9d9-9fa0c00cc7cf",
        "colab": {
          "base_uri": "https://localhost:8080/",
          "height": 51
        }
      },
      "cell_type": "code",
      "source": [
        "W1, W2, B1, B2 = train(W1, W2, B1, B2)"
      ],
      "execution_count": 16,
      "outputs": [
        {
          "output_type": "stream",
          "text": [
            "Iteration: 30 and 4"
          ],
          "name": "stdout"
        },
        {
          "output_type": "stream",
          "text": [
            "/usr/local/lib/python3.6/dist-packages/ipykernel_launcher.py:33: RuntimeWarning: invalid value encountered in log\n"
          ],
          "name": "stderr"
        },
        {
          "output_type": "stream",
          "text": [
            "Iteration: 6000 and 4"
          ],
          "name": "stdout"
        }
      ]
    },
    {
      "metadata": {
        "id": "6Hb0apHmTKgi",
        "colab_type": "code",
        "outputId": "58fc4b69-5a09-4d73-f7bd-3fb96466730c",
        "colab": {
          "base_uri": "https://localhost:8080/",
          "height": 51
        }
      },
      "cell_type": "code",
      "source": [
        "W1"
      ],
      "execution_count": 17,
      "outputs": [
        {
          "output_type": "execute_result",
          "data": {
            "text/plain": [
              "array([[-1.5703401 , -1.57407417],\n",
              "       [-1.07675588, -1.07966074]])"
            ]
          },
          "metadata": {
            "tags": []
          },
          "execution_count": 17
        }
      ]
    },
    {
      "metadata": {
        "id": "4w5fxYQfTe-2",
        "colab_type": "code",
        "outputId": "e3666780-8b7d-412a-da04-4cf73ac7e829",
        "colab": {
          "base_uri": "https://localhost:8080/",
          "height": 34
        }
      },
      "cell_type": "code",
      "source": [
        "W2"
      ],
      "execution_count": 18,
      "outputs": [
        {
          "output_type": "execute_result",
          "data": {
            "text/plain": [
              "array([[ 2.77792396, -2.89956611]])"
            ]
          },
          "metadata": {
            "tags": []
          },
          "execution_count": 18
        }
      ]
    },
    {
      "metadata": {
        "id": "mTuN4yh_Tf5A",
        "colab_type": "code",
        "outputId": "8bcf0be0-4285-42ba-d4cf-6f3669bafe18",
        "colab": {
          "base_uri": "https://localhost:8080/",
          "height": 51
        }
      },
      "cell_type": "code",
      "source": [
        "B1"
      ],
      "execution_count": 19,
      "outputs": [
        {
          "output_type": "execute_result",
          "data": {
            "text/plain": [
              "array([[ 0.85377398],\n",
              "       [-0.71487883]])"
            ]
          },
          "metadata": {
            "tags": []
          },
          "execution_count": 19
        }
      ]
    },
    {
      "metadata": {
        "id": "bBVaOJlCTgs3",
        "colab_type": "code",
        "outputId": "277721b2-e042-44f4-d344-bfd65f07b71a",
        "colab": {
          "base_uri": "https://localhost:8080/",
          "height": 34
        }
      },
      "cell_type": "code",
      "source": [
        "B2"
      ],
      "execution_count": 20,
      "outputs": [
        {
          "output_type": "execute_result",
          "data": {
            "text/plain": [
              "array([[-1.83879431]])"
            ]
          },
          "metadata": {
            "tags": []
          },
          "execution_count": 20
        }
      ]
    },
    {
      "metadata": {
        "id": "4EZavhuBTlEF",
        "colab_type": "code",
        "colab": {}
      },
      "cell_type": "code",
      "source": [
        "## prediction --> we know the weights and then easily can multiply and get  the results\n",
        "##  add a prediction function"
      ],
      "execution_count": 0,
      "outputs": []
    },
    {
      "metadata": {
        "id": "6d1qaSxOT5W-",
        "colab_type": "code",
        "colab": {}
      },
      "cell_type": "code",
      "source": [
        "def predict(test_array):\n",
        "  #W.x+b\n",
        "  #tanh (weight_of hiddenlayer *tanh(first layer nueron weight into input + bias ) + b \n",
        "  \n",
        "  ### reshape the test array so that muktplication can work W.x + b \n",
        "  a0 = test_array.reshape(2, 1) # 2x1\n",
        "  \n",
        "  #print(a0.shape)\n",
        "  z1 = W1.dot(a0) + B1 # 2x2 * 2x1 + 2x1 = 2x1\n",
        "  #print(z1.shape)\n",
        "  a1 = tanh(z1) # 2x1\n",
        "\n",
        "  z2 = W2.dot(a1) + B2 # 1x2 * 2x1 + 1x1 = 1x1\n",
        "  #print(z2.shape)\n",
        "  a2 = tanh(z2) # 1x1\n",
        "  \n",
        "  return a2\n",
        "  \n",
        " \n",
        "\n",
        "\n",
        "\n"
      ],
      "execution_count": 0,
      "outputs": []
    },
    {
      "metadata": {
        "id": "OFMjVXSkciFW",
        "colab_type": "code",
        "outputId": "26fe4a80-f2d5-4c33-a412-1624c4f449e9",
        "colab": {
          "base_uri": "https://localhost:8080/",
          "height": 34
        }
      },
      "cell_type": "code",
      "source": [
        "print(\"Predicted Output:{} Expected Output: {}\".format(np.sign(predict(np.array([[-1,-1]]))),-1))"
      ],
      "execution_count": 23,
      "outputs": [
        {
          "output_type": "stream",
          "text": [
            "Predicted Output:[[-1.]] Expected Output: -1\n"
          ],
          "name": "stdout"
        }
      ]
    },
    {
      "metadata": {
        "id": "U9D64Y6AeGC5",
        "colab_type": "code",
        "outputId": "c606b7f6-0943-418d-9a00-c157a93dfef9",
        "colab": {
          "base_uri": "https://localhost:8080/",
          "height": 34
        }
      },
      "cell_type": "code",
      "source": [
        "print(\"Predicted Output:{} Expected Output: {}\".format(np.sign(predict(np.array([[1,1]]))),-1))"
      ],
      "execution_count": 24,
      "outputs": [
        {
          "output_type": "stream",
          "text": [
            "Predicted Output:[[-1.]] Expected Output: -1\n"
          ],
          "name": "stdout"
        }
      ]
    },
    {
      "metadata": {
        "id": "_3NC6B35e8Vq",
        "colab_type": "code",
        "outputId": "73caa04c-640e-4af3-ed31-4badb812de26",
        "colab": {
          "base_uri": "https://localhost:8080/",
          "height": 34
        }
      },
      "cell_type": "code",
      "source": [
        "print(\"Predicted Output:{} Expected Output: {}\".format(np.sign(predict(np.array([[-1,1]]))),1))"
      ],
      "execution_count": 25,
      "outputs": [
        {
          "output_type": "stream",
          "text": [
            "Predicted Output:[[1.]] Expected Output: 1\n"
          ],
          "name": "stdout"
        }
      ]
    },
    {
      "metadata": {
        "id": "cVZ10pZJfAUB",
        "colab_type": "code",
        "outputId": "b0a45e65-52fa-4aa2-a868-51899e31ac4e",
        "colab": {
          "base_uri": "https://localhost:8080/",
          "height": 34
        }
      },
      "cell_type": "code",
      "source": [
        "print(\"Predicted Output:{} Expected Output: {}\".format(np.sign(predict(np.array([[1,-1]]))),1))"
      ],
      "execution_count": 26,
      "outputs": [
        {
          "output_type": "stream",
          "text": [
            "Predicted Output:[[1.]] Expected Output: 1\n"
          ],
          "name": "stdout"
        }
      ]
    },
    {
      "metadata": {
        "id": "Y-8VVw8TfB4S",
        "colab_type": "code",
        "colab": {}
      },
      "cell_type": "code",
      "source": [
        ""
      ],
      "execution_count": 0,
      "outputs": []
    }
  ]
}